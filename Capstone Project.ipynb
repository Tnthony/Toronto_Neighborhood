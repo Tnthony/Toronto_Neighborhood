{
    "cells": [
        {
            "cell_type": "markdown",
            "metadata": {
                "collapsed": true
            },
            "source": "# 1.0 INTRODUCTION /BUSINESS PROBLEM"
        },
        {
            "cell_type": "markdown",
            "metadata": {},
            "source": "Lagos is the commercial capital of Nigeria and a major business hub in West Africa. It's population is projected to reach 30 million people in the next few years. However, due to increasing business relevance,  more people are relocating to live and working in Lagos with their family. The choice of local government Area (LGA) to reside is usually influenced by the availability of school for their childen to attend. Most peole will prefer to settle were there is similar school to were they are reloating from. \n \nI will leverge on Foursqauare location data and machine learning to find appropriate neighborhoods in Lagos were good international schools are located. \n\nThis is the problem I will like to solve in this coursera capstone project by using Foursquare API, location data and clustering method to group Lagos LGA based on the presence of schools"
        },
        {
            "cell_type": "markdown",
            "metadata": {},
            "source": "# 2.0 DATA REQUIREMENT"
        },
        {
            "cell_type": "markdown",
            "metadata": {},
            "source": "The data required for this problem are:\n\n1. The list of Local Goverment Area in Lagos and their latitude and longitude which shall be sourced from wikipedia\n\n2. The schools in Lagos neighborhood shall be sourced through foursquare API\n\nBy using API will get all the venues in each local government Area(LGA) of Lagos. I shall then filter to get only schools"
        },
        {
            "cell_type": "code",
            "execution_count": null,
            "metadata": {},
            "outputs": [],
            "source": ""
        }
    ],
    "metadata": {
        "kernelspec": {
            "display_name": "Python 3.6",
            "language": "python",
            "name": "python3"
        },
        "language_info": {
            "codemirror_mode": {
                "name": "ipython",
                "version": 3
            },
            "file_extension": ".py",
            "mimetype": "text/x-python",
            "name": "python",
            "nbconvert_exporter": "python",
            "pygments_lexer": "ipython3",
            "version": "3.6.9"
        }
    },
    "nbformat": 4,
    "nbformat_minor": 1
}