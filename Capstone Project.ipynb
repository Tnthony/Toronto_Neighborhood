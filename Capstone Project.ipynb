{
    "cells": [
        {
            "cell_type": "markdown",
            "metadata": {
                "collapsed": true
            },
            "source": "# 1.0 INTRODUCTION /BUSINESS PROBLEM"
        },
        {
            "cell_type": "markdown",
            "metadata": {},
            "source": "### 1.1 Background"
        },
        {
            "cell_type": "markdown",
            "metadata": {},
            "source": "Lagos is the commercial capital of Nigeria and a major business hub in West Africa. It's population is projected to reach 30 million people in the next few years. However, due to increasing business relevance,  more people are relocating to live and working in Lagos with their family. The choice of local government Area (LGA) to reside is usually influenced by the availability of school for their childen to attend. Most peole will prefer to settle were there is similar school to were they are reloating from. \n"
        },
        {
            "cell_type": "markdown",
            "metadata": {},
            "source": "### 1.2 Problem"
        },
        {
            "cell_type": "markdown",
            "metadata": {},
            "source": "Data is needed to categorize all the schools in different districts of lagos. Their location, the kind of schools and distance from capital district. This project will leverge on Foursqauare location data and machine learning to find appropriate neighborhoods in Lagos were good international schools are located. \n"
        },
        {
            "cell_type": "markdown",
            "metadata": {},
            "source": "### 1.3 Interest"
        },
        {
            "cell_type": "markdown",
            "metadata": {},
            "source": "This project is for those who plan to relocate to Lagos with their family who plan to enroll their children into school. It will help them make choice of district to live based on easy of locating schools for their children. This will guide them in determing the best district that have schools and social infrastructures that is adequate for them."
        },
        {
            "cell_type": "markdown",
            "metadata": {},
            "source": "# 2.0 DATA REQUIREMENT"
        },
        {
            "cell_type": "markdown",
            "metadata": {},
            "source": "### 2.1 Data Source"
        },
        {
            "cell_type": "markdown",
            "metadata": {},
            "source": "The data required for this problem and their sources are:\n\n1. The list of Local Goverment Area in Lagos, their latitude and longitude which shall be scrapped from wikipedia\nhttps://en.wikipedia.org/wiki/List_of_Lagos_State_local_government_areas_by_population\n\n2. The location of schools in Lagos neighborhood shall be gotten through foursquare API\n\nBy using API will get all the venues in each local government Area(LGA) of Lagos. Then filter will be used to get schools in different districts."
        },
        {
            "cell_type": "markdown",
            "metadata": {},
            "source": "### 2.2 Data cleaning and Feature Extraction"
        },
        {
            "cell_type": "markdown",
            "metadata": {},
            "source": "By using Foursquare API, location data and clustering method to group Lagos LGA based on the presence of schools.\nThe project will find the latitude & longitude of Lagos Schools locations, using specific, well known address and Google Maps geocoding API."
        },
        {
            "cell_type": "markdown",
            "metadata": {},
            "source": "\n"
        },
        {
            "cell_type": "markdown",
            "metadata": {},
            "source": ""
        }
    ],
    "metadata": {
        "kernelspec": {
            "display_name": "Python 3.6",
            "language": "python",
            "name": "python3"
        },
        "language_info": {
            "codemirror_mode": {
                "name": "ipython",
                "version": 3
            },
            "file_extension": ".py",
            "mimetype": "text/x-python",
            "name": "python",
            "nbconvert_exporter": "python",
            "pygments_lexer": "ipython3",
            "version": "3.6.9"
        }
    },
    "nbformat": 4,
    "nbformat_minor": 1
}