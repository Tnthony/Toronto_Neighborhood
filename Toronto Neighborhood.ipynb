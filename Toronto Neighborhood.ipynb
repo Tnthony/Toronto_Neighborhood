{
    "cells": [
        {
            "cell_type": "code",
            "execution_count": 6,
            "metadata": {},
            "outputs": [],
            "source": "import sys\nimport requests\nimport urllib.request\nimport time\nfrom bs4 import BeautifulSoup\nimport numpy as np\nimport pandas as pd\nimport lxml.html as lh"
        },
        {
            "cell_type": "markdown",
            "metadata": {},
            "source": "# Scaping Data from Wikipedia"
        },
        {
            "cell_type": "code",
            "execution_count": 2,
            "metadata": {},
            "outputs": [],
            "source": "url = 'https://en.wikipedia.org/wiki/List_of_postal_codes_of_Canada:_M'"
        },
        {
            "cell_type": "code",
            "execution_count": 3,
            "metadata": {},
            "outputs": [],
            "source": "response = requests.get(url)"
        },
        {
            "cell_type": "code",
            "execution_count": 4,
            "metadata": {},
            "outputs": [],
            "source": "response.raise_for_status()"
        },
        {
            "cell_type": "markdown",
            "metadata": {},
            "source": "### Parsing the scraped Data between <tr>  and </tr> of html"
        },
        {
            "cell_type": "code",
            "execution_count": 17,
            "metadata": {},
            "outputs": [],
            "source": "doc = lh.fromstring(response.content)\n\ntr_values = doc.xpath('//tr')"
        },
        {
            "cell_type": "markdown",
            "metadata": {},
            "source": "### Creating Header and empty List"
        },
        {
            "cell_type": "code",
            "execution_count": 18,
            "metadata": {},
            "outputs": [
                {
                    "name": "stdout",
                    "output_type": "stream",
                    "text": "1:\"Postal Code\n\"\n2:\"Borough\n\"\n3:\"Neighborhood\n\"\n"
                }
            ],
            "source": "tr_values= doc.xpath('//tr')\ncol=[]\ni=0\n\nfor t in tr_values[0]:\n    i+=1\n    head =t.text_content()\n    print ('%d:\"%s\"'%(i,head))\n    col.append((head,[]))"
        },
        {
            "cell_type": "markdown",
            "metadata": {},
            "source": "### Storing data from second row"
        },
        {
            "cell_type": "code",
            "execution_count": 19,
            "metadata": {},
            "outputs": [],
            "source": "for k in range(1,len(tr_values)):\n    \n    Hd=tr_values[k]\n     #If row is not of size 3, the //tr data is not from our table \n    if len(Hd)!=3:\n        break\n    i=0  #index of our column\n    \n    \n    for t in Hd.iterchildren(): #Iterate through each element of the row\n        data=t.text_content() \n        #Check if row is empty\n        if i>0:\n        #Convert any numerical value to integers\n            try:\n                data=int(data)\n            except:\n                pass\n        #Append the data to the empty list of the i'th column\n        col[i][1].append(data)\n        #Increment i for the next column\n        i+=1"
        },
        {
            "cell_type": "code",
            "execution_count": 20,
            "metadata": {},
            "outputs": [
                {
                    "data": {
                        "text/plain": "[181, 181, 181]"
                    },
                    "execution_count": 20,
                    "metadata": {},
                    "output_type": "execute_result"
                }
            ],
            "source": "[len(C) for (title,C) in col]"
        },
        {
            "cell_type": "code",
            "execution_count": 11,
            "metadata": {},
            "outputs": [],
            "source": "## Create the data frame"
        },
        {
            "cell_type": "code",
            "execution_count": 33,
            "metadata": {},
            "outputs": [],
            "source": "Dict={title:column for (title,column) in col}\ndf=pd.DataFrame(Dict)"
        },
        {
            "cell_type": "code",
            "execution_count": 34,
            "metadata": {},
            "outputs": [
                {
                    "data": {
                        "text/html": "<div>\n<style scoped>\n    .dataframe tbody tr th:only-of-type {\n        vertical-align: middle;\n    }\n\n    .dataframe tbody tr th {\n        vertical-align: top;\n    }\n\n    .dataframe thead th {\n        text-align: right;\n    }\n</style>\n<table border=\"1\" class=\"dataframe\">\n  <thead>\n    <tr style=\"text-align: right;\">\n      <th></th>\n      <th>Postal Code</th>\n      <th>Borough</th>\n      <th>Neighborhood</th>\n    </tr>\n  </thead>\n  <tbody>\n    <tr>\n      <th>0</th>\n      <td>M1A\\n</td>\n      <td>Not assigned\\n</td>\n      <td>Not assigned\\n</td>\n    </tr>\n    <tr>\n      <th>1</th>\n      <td>M2A\\n</td>\n      <td>Not assigned\\n</td>\n      <td>Not assigned\\n</td>\n    </tr>\n    <tr>\n      <th>2</th>\n      <td>M3A\\n</td>\n      <td>North York\\n</td>\n      <td>Parkwoods\\n</td>\n    </tr>\n    <tr>\n      <th>3</th>\n      <td>M4A\\n</td>\n      <td>North York\\n</td>\n      <td>Victoria Village\\n</td>\n    </tr>\n    <tr>\n      <th>4</th>\n      <td>M5A\\n</td>\n      <td>Downtown Toronto\\n</td>\n      <td>Regent Park, Harbourfront\\n</td>\n    </tr>\n  </tbody>\n</table>\n</div>",
                        "text/plain": "  Postal Code\\n           Borough\\n               Neighborhood\\n\n0         M1A\\n      Not assigned\\n               Not assigned\\n\n1         M2A\\n      Not assigned\\n               Not assigned\\n\n2         M3A\\n        North York\\n                  Parkwoods\\n\n3         M4A\\n        North York\\n           Victoria Village\\n\n4         M5A\\n  Downtown Toronto\\n  Regent Park, Harbourfront\\n"
                    },
                    "execution_count": 34,
                    "metadata": {},
                    "output_type": "execute_result"
                }
            ],
            "source": "df.head()"
        },
        {
            "cell_type": "code",
            "execution_count": 35,
            "metadata": {},
            "outputs": [
                {
                    "data": {
                        "text/html": "<div>\n<style scoped>\n    .dataframe tbody tr th:only-of-type {\n        vertical-align: middle;\n    }\n\n    .dataframe tbody tr th {\n        vertical-align: top;\n    }\n\n    .dataframe thead th {\n        text-align: right;\n    }\n</style>\n<table border=\"1\" class=\"dataframe\">\n  <thead>\n    <tr style=\"text-align: right;\">\n      <th></th>\n      <th>Postal Code</th>\n      <th>Borough</th>\n      <th>Neighborhood</th>\n    </tr>\n  </thead>\n  <tbody>\n    <tr>\n      <th>0</th>\n      <td>M1A</td>\n      <td>Not assigned</td>\n      <td>Not assigned</td>\n    </tr>\n    <tr>\n      <th>1</th>\n      <td>M2A</td>\n      <td>Not assigned</td>\n      <td>Not assigned</td>\n    </tr>\n    <tr>\n      <th>2</th>\n      <td>M3A</td>\n      <td>North York</td>\n      <td>Parkwoods</td>\n    </tr>\n    <tr>\n      <th>3</th>\n      <td>M4A</td>\n      <td>North York</td>\n      <td>Victoria Village</td>\n    </tr>\n    <tr>\n      <th>4</th>\n      <td>M5A</td>\n      <td>Downtown Toronto</td>\n      <td>Regent Park, Harbourfront</td>\n    </tr>\n    <tr>\n      <th>5</th>\n      <td>M6A</td>\n      <td>North York</td>\n      <td>Lawrence Manor, Lawrence Heights</td>\n    </tr>\n    <tr>\n      <th>6</th>\n      <td>M7A</td>\n      <td>Downtown Toronto</td>\n      <td>Queen's Park, Ontario Provincial Government</td>\n    </tr>\n    <tr>\n      <th>7</th>\n      <td>M8A</td>\n      <td>Not assigned</td>\n      <td>Not assigned</td>\n    </tr>\n    <tr>\n      <th>8</th>\n      <td>M9A</td>\n      <td>Etobicoke</td>\n      <td>Islington Avenue, Humber Valley Village</td>\n    </tr>\n    <tr>\n      <th>9</th>\n      <td>M1B</td>\n      <td>Scarborough</td>\n      <td>Malvern, Rouge</td>\n    </tr>\n    <tr>\n      <th>10</th>\n      <td>M2B</td>\n      <td>Not assigned</td>\n      <td>Not assigned</td>\n    </tr>\n    <tr>\n      <th>11</th>\n      <td>M3B</td>\n      <td>North York</td>\n      <td>Don Mills</td>\n    </tr>\n    <tr>\n      <th>12</th>\n      <td>M4B</td>\n      <td>East York</td>\n      <td>Parkview Hill, Woodbine Gardens</td>\n    </tr>\n    <tr>\n      <th>13</th>\n      <td>M5B</td>\n      <td>Downtown Toronto</td>\n      <td>Garden District, Ryerson</td>\n    </tr>\n    <tr>\n      <th>14</th>\n      <td>M6B</td>\n      <td>North York</td>\n      <td>Glencairn</td>\n    </tr>\n    <tr>\n      <th>15</th>\n      <td>M7B</td>\n      <td>Not assigned</td>\n      <td>Not assigned</td>\n    </tr>\n    <tr>\n      <th>16</th>\n      <td>M8B</td>\n      <td>Not assigned</td>\n      <td>Not assigned</td>\n    </tr>\n    <tr>\n      <th>17</th>\n      <td>M9B</td>\n      <td>Etobicoke</td>\n      <td>West Deane Park, Princess Gardens, Martin Grov...</td>\n    </tr>\n    <tr>\n      <th>18</th>\n      <td>M1C</td>\n      <td>Scarborough</td>\n      <td>Rouge Hill, Port Union, Highland Creek</td>\n    </tr>\n    <tr>\n      <th>19</th>\n      <td>M2C</td>\n      <td>Not assigned</td>\n      <td>Not assigned</td>\n    </tr>\n    <tr>\n      <th>20</th>\n      <td>M3C</td>\n      <td>North York</td>\n      <td>Don Mills</td>\n    </tr>\n    <tr>\n      <th>21</th>\n      <td>M4C</td>\n      <td>East York</td>\n      <td>Woodbine Heights</td>\n    </tr>\n    <tr>\n      <th>22</th>\n      <td>M5C</td>\n      <td>Downtown Toronto</td>\n      <td>St. James Town</td>\n    </tr>\n    <tr>\n      <th>23</th>\n      <td>M6C</td>\n      <td>York</td>\n      <td>Humewood-Cedarvale</td>\n    </tr>\n    <tr>\n      <th>24</th>\n      <td>M7C</td>\n      <td>Not assigned</td>\n      <td>Not assigned</td>\n    </tr>\n    <tr>\n      <th>25</th>\n      <td>M8C</td>\n      <td>Not assigned</td>\n      <td>Not assigned</td>\n    </tr>\n    <tr>\n      <th>26</th>\n      <td>M9C</td>\n      <td>Etobicoke</td>\n      <td>Eringate, Bloordale Gardens, Old Burnhamthorpe...</td>\n    </tr>\n    <tr>\n      <th>27</th>\n      <td>M1E</td>\n      <td>Scarborough</td>\n      <td>Guildwood, Morningside, West Hill</td>\n    </tr>\n    <tr>\n      <th>28</th>\n      <td>M2E</td>\n      <td>Not assigned</td>\n      <td>Not assigned</td>\n    </tr>\n    <tr>\n      <th>29</th>\n      <td>M3E</td>\n      <td>Not assigned</td>\n      <td>Not assigned</td>\n    </tr>\n    <tr>\n      <th>...</th>\n      <td>...</td>\n      <td>...</td>\n      <td>...</td>\n    </tr>\n    <tr>\n      <th>151</th>\n      <td>M8W</td>\n      <td>Etobicoke</td>\n      <td>Alderwood, Long Branch</td>\n    </tr>\n    <tr>\n      <th>152</th>\n      <td>M9W</td>\n      <td>Etobicoke</td>\n      <td>Northwest, West Humber - Clairville</td>\n    </tr>\n    <tr>\n      <th>153</th>\n      <td>M1X</td>\n      <td>Scarborough</td>\n      <td>Upper Rouge</td>\n    </tr>\n    <tr>\n      <th>154</th>\n      <td>M2X</td>\n      <td>Not assigned</td>\n      <td>Not assigned</td>\n    </tr>\n    <tr>\n      <th>155</th>\n      <td>M3X</td>\n      <td>Not assigned</td>\n      <td>Not assigned</td>\n    </tr>\n    <tr>\n      <th>156</th>\n      <td>M4X</td>\n      <td>Downtown Toronto</td>\n      <td>St. James Town, Cabbagetown</td>\n    </tr>\n    <tr>\n      <th>157</th>\n      <td>M5X</td>\n      <td>Downtown Toronto</td>\n      <td>First Canadian Place, Underground city</td>\n    </tr>\n    <tr>\n      <th>158</th>\n      <td>M6X</td>\n      <td>Not assigned</td>\n      <td>Not assigned</td>\n    </tr>\n    <tr>\n      <th>159</th>\n      <td>M7X</td>\n      <td>Not assigned</td>\n      <td>Not assigned</td>\n    </tr>\n    <tr>\n      <th>160</th>\n      <td>M8X</td>\n      <td>Etobicoke</td>\n      <td>The Kingsway, Montgomery Road, Old Mill North</td>\n    </tr>\n    <tr>\n      <th>161</th>\n      <td>M9X</td>\n      <td>Not assigned</td>\n      <td>Not assigned</td>\n    </tr>\n    <tr>\n      <th>162</th>\n      <td>M1Y</td>\n      <td>Not assigned</td>\n      <td>Not assigned</td>\n    </tr>\n    <tr>\n      <th>163</th>\n      <td>M2Y</td>\n      <td>Not assigned</td>\n      <td>Not assigned</td>\n    </tr>\n    <tr>\n      <th>164</th>\n      <td>M3Y</td>\n      <td>Not assigned</td>\n      <td>Not assigned</td>\n    </tr>\n    <tr>\n      <th>165</th>\n      <td>M4Y</td>\n      <td>Downtown Toronto</td>\n      <td>Church and Wellesley</td>\n    </tr>\n    <tr>\n      <th>166</th>\n      <td>M5Y</td>\n      <td>Not assigned</td>\n      <td>Not assigned</td>\n    </tr>\n    <tr>\n      <th>167</th>\n      <td>M6Y</td>\n      <td>Not assigned</td>\n      <td>Not assigned</td>\n    </tr>\n    <tr>\n      <th>168</th>\n      <td>M7Y</td>\n      <td>East Toronto</td>\n      <td>Business reply mail Processing Centre, South C...</td>\n    </tr>\n    <tr>\n      <th>169</th>\n      <td>M8Y</td>\n      <td>Etobicoke</td>\n      <td>Old Mill South, King's Mill Park, Sunnylea, Hu...</td>\n    </tr>\n    <tr>\n      <th>170</th>\n      <td>M9Y</td>\n      <td>Not assigned</td>\n      <td>Not assigned</td>\n    </tr>\n    <tr>\n      <th>171</th>\n      <td>M1Z</td>\n      <td>Not assigned</td>\n      <td>Not assigned</td>\n    </tr>\n    <tr>\n      <th>172</th>\n      <td>M2Z</td>\n      <td>Not assigned</td>\n      <td>Not assigned</td>\n    </tr>\n    <tr>\n      <th>173</th>\n      <td>M3Z</td>\n      <td>Not assigned</td>\n      <td>Not assigned</td>\n    </tr>\n    <tr>\n      <th>174</th>\n      <td>M4Z</td>\n      <td>Not assigned</td>\n      <td>Not assigned</td>\n    </tr>\n    <tr>\n      <th>175</th>\n      <td>M5Z</td>\n      <td>Not assigned</td>\n      <td>Not assigned</td>\n    </tr>\n    <tr>\n      <th>176</th>\n      <td>M6Z</td>\n      <td>Not assigned</td>\n      <td>Not assigned</td>\n    </tr>\n    <tr>\n      <th>177</th>\n      <td>M7Z</td>\n      <td>Not assigned</td>\n      <td>Not assigned</td>\n    </tr>\n    <tr>\n      <th>178</th>\n      <td>M8Z</td>\n      <td>Etobicoke</td>\n      <td>Mimico NW, The Queensway West, South of Bloor,...</td>\n    </tr>\n    <tr>\n      <th>179</th>\n      <td>M9Z</td>\n      <td>Not assigned</td>\n      <td>Not assigned</td>\n    </tr>\n    <tr>\n      <th>180</th>\n      <td></td>\n      <td>Canadian postal codes</td>\n      <td></td>\n    </tr>\n  </tbody>\n</table>\n<p>181 rows \u00d7 3 columns</p>\n</div>",
                        "text/plain": "    Postal Code\\n              Borough\\n  \\\n0             M1A           Not assigned   \n1             M2A           Not assigned   \n2             M3A             North York   \n3             M4A             North York   \n4             M5A       Downtown Toronto   \n5             M6A             North York   \n6             M7A       Downtown Toronto   \n7             M8A           Not assigned   \n8             M9A              Etobicoke   \n9             M1B            Scarborough   \n10            M2B           Not assigned   \n11            M3B             North York   \n12            M4B              East York   \n13            M5B       Downtown Toronto   \n14            M6B             North York   \n15            M7B           Not assigned   \n16            M8B           Not assigned   \n17            M9B              Etobicoke   \n18            M1C            Scarborough   \n19            M2C           Not assigned   \n20            M3C             North York   \n21            M4C              East York   \n22            M5C       Downtown Toronto   \n23            M6C                   York   \n24            M7C           Not assigned   \n25            M8C           Not assigned   \n26            M9C              Etobicoke   \n27            M1E            Scarborough   \n28            M2E           Not assigned   \n29            M3E           Not assigned   \n..            ...                    ...   \n151           M8W              Etobicoke   \n152           M9W              Etobicoke   \n153           M1X            Scarborough   \n154           M2X           Not assigned   \n155           M3X           Not assigned   \n156           M4X       Downtown Toronto   \n157           M5X       Downtown Toronto   \n158           M6X           Not assigned   \n159           M7X           Not assigned   \n160           M8X              Etobicoke   \n161           M9X           Not assigned   \n162           M1Y           Not assigned   \n163           M2Y           Not assigned   \n164           M3Y           Not assigned   \n165           M4Y       Downtown Toronto   \n166           M5Y           Not assigned   \n167           M6Y           Not assigned   \n168           M7Y           East Toronto   \n169           M8Y              Etobicoke   \n170           M9Y           Not assigned   \n171           M1Z           Not assigned   \n172           M2Z           Not assigned   \n173           M3Z           Not assigned   \n174           M4Z           Not assigned   \n175           M5Z           Not assigned   \n176           M6Z           Not assigned   \n177           M7Z           Not assigned   \n178           M8Z              Etobicoke   \n179           M9Z           Not assigned   \n180                Canadian postal codes   \n\n                                        Neighborhood\\n  \n0                                         Not assigned  \n1                                         Not assigned  \n2                                            Parkwoods  \n3                                     Victoria Village  \n4                            Regent Park, Harbourfront  \n5                     Lawrence Manor, Lawrence Heights  \n6          Queen's Park, Ontario Provincial Government  \n7                                         Not assigned  \n8              Islington Avenue, Humber Valley Village  \n9                                       Malvern, Rouge  \n10                                        Not assigned  \n11                                           Don Mills  \n12                     Parkview Hill, Woodbine Gardens  \n13                            Garden District, Ryerson  \n14                                           Glencairn  \n15                                        Not assigned  \n16                                        Not assigned  \n17   West Deane Park, Princess Gardens, Martin Grov...  \n18              Rouge Hill, Port Union, Highland Creek  \n19                                        Not assigned  \n20                                           Don Mills  \n21                                    Woodbine Heights  \n22                                      St. James Town  \n23                                  Humewood-Cedarvale  \n24                                        Not assigned  \n25                                        Not assigned  \n26   Eringate, Bloordale Gardens, Old Burnhamthorpe...  \n27                   Guildwood, Morningside, West Hill  \n28                                        Not assigned  \n29                                        Not assigned  \n..                                                 ...  \n151                             Alderwood, Long Branch  \n152                Northwest, West Humber - Clairville  \n153                                        Upper Rouge  \n154                                       Not assigned  \n155                                       Not assigned  \n156                        St. James Town, Cabbagetown  \n157             First Canadian Place, Underground city  \n158                                       Not assigned  \n159                                       Not assigned  \n160      The Kingsway, Montgomery Road, Old Mill North  \n161                                       Not assigned  \n162                                       Not assigned  \n163                                       Not assigned  \n164                                       Not assigned  \n165                               Church and Wellesley  \n166                                       Not assigned  \n167                                       Not assigned  \n168  Business reply mail Processing Centre, South C...  \n169  Old Mill South, King's Mill Park, Sunnylea, Hu...  \n170                                       Not assigned  \n171                                       Not assigned  \n172                                       Not assigned  \n173                                       Not assigned  \n174                                       Not assigned  \n175                                       Not assigned  \n176                                       Not assigned  \n177                                       Not assigned  \n178  Mimico NW, The Queensway West, South of Bloor,...  \n179                                       Not assigned  \n180                                                     \n\n[181 rows x 3 columns]"
                    },
                    "execution_count": 35,
                    "metadata": {},
                    "output_type": "execute_result"
                }
            ],
            "source": "df = df.replace('\\n','', regex=True)\ndf"
        },
        {
            "cell_type": "code",
            "execution_count": 36,
            "metadata": {},
            "outputs": [
                {
                    "data": {
                        "text/plain": "array(['Postal Code\\n', 'Borough\\n', 'Neighborhood\\n'], dtype=object)"
                    },
                    "execution_count": 36,
                    "metadata": {},
                    "output_type": "execute_result"
                }
            ],
            "source": "df.columns.values"
        },
        {
            "cell_type": "code",
            "execution_count": 37,
            "metadata": {},
            "outputs": [],
            "source": "cols= ['Post Code', 'Borough','Neighborhood']"
        },
        {
            "cell_type": "code",
            "execution_count": 38,
            "metadata": {},
            "outputs": [
                {
                    "data": {
                        "text/html": "<div>\n<style scoped>\n    .dataframe tbody tr th:only-of-type {\n        vertical-align: middle;\n    }\n\n    .dataframe tbody tr th {\n        vertical-align: top;\n    }\n\n    .dataframe thead th {\n        text-align: right;\n    }\n</style>\n<table border=\"1\" class=\"dataframe\">\n  <thead>\n    <tr style=\"text-align: right;\">\n      <th></th>\n      <th>Post Code</th>\n      <th>Borough</th>\n      <th>Neighborhood</th>\n    </tr>\n  </thead>\n  <tbody>\n    <tr>\n      <th>0</th>\n      <td>M1A</td>\n      <td>Not assigned</td>\n      <td>Not assigned</td>\n    </tr>\n    <tr>\n      <th>1</th>\n      <td>M2A</td>\n      <td>Not assigned</td>\n      <td>Not assigned</td>\n    </tr>\n    <tr>\n      <th>2</th>\n      <td>M3A</td>\n      <td>North York</td>\n      <td>Parkwoods</td>\n    </tr>\n    <tr>\n      <th>3</th>\n      <td>M4A</td>\n      <td>North York</td>\n      <td>Victoria Village</td>\n    </tr>\n    <tr>\n      <th>4</th>\n      <td>M5A</td>\n      <td>Downtown Toronto</td>\n      <td>Regent Park, Harbourfront</td>\n    </tr>\n  </tbody>\n</table>\n</div>",
                        "text/plain": "  Post Code           Borough               Neighborhood\n0       M1A      Not assigned               Not assigned\n1       M2A      Not assigned               Not assigned\n2       M3A        North York                  Parkwoods\n3       M4A        North York           Victoria Village\n4       M5A  Downtown Toronto  Regent Park, Harbourfront"
                    },
                    "execution_count": 38,
                    "metadata": {},
                    "output_type": "execute_result"
                }
            ],
            "source": "df.columns =cols\ndf.head()"
        },
        {
            "cell_type": "code",
            "execution_count": 39,
            "metadata": {},
            "outputs": [
                {
                    "data": {
                        "text/html": "<div>\n<style scoped>\n    .dataframe tbody tr th:only-of-type {\n        vertical-align: middle;\n    }\n\n    .dataframe tbody tr th {\n        vertical-align: top;\n    }\n\n    .dataframe thead th {\n        text-align: right;\n    }\n</style>\n<table border=\"1\" class=\"dataframe\">\n  <thead>\n    <tr style=\"text-align: right;\">\n      <th></th>\n      <th>Post Code</th>\n      <th>Borough</th>\n      <th>Neighborhood</th>\n    </tr>\n  </thead>\n  <tbody>\n    <tr>\n      <th>2</th>\n      <td>M3A</td>\n      <td>North York</td>\n      <td>Parkwoods</td>\n    </tr>\n    <tr>\n      <th>3</th>\n      <td>M4A</td>\n      <td>North York</td>\n      <td>Victoria Village</td>\n    </tr>\n    <tr>\n      <th>4</th>\n      <td>M5A</td>\n      <td>Downtown Toronto</td>\n      <td>Regent Park, Harbourfront</td>\n    </tr>\n    <tr>\n      <th>5</th>\n      <td>M6A</td>\n      <td>North York</td>\n      <td>Lawrence Manor, Lawrence Heights</td>\n    </tr>\n    <tr>\n      <th>6</th>\n      <td>M7A</td>\n      <td>Downtown Toronto</td>\n      <td>Queen's Park, Ontario Provincial Government</td>\n    </tr>\n    <tr>\n      <th>8</th>\n      <td>M9A</td>\n      <td>Etobicoke</td>\n      <td>Islington Avenue, Humber Valley Village</td>\n    </tr>\n    <tr>\n      <th>9</th>\n      <td>M1B</td>\n      <td>Scarborough</td>\n      <td>Malvern, Rouge</td>\n    </tr>\n    <tr>\n      <th>11</th>\n      <td>M3B</td>\n      <td>North York</td>\n      <td>Don Mills</td>\n    </tr>\n    <tr>\n      <th>12</th>\n      <td>M4B</td>\n      <td>East York</td>\n      <td>Parkview Hill, Woodbine Gardens</td>\n    </tr>\n    <tr>\n      <th>13</th>\n      <td>M5B</td>\n      <td>Downtown Toronto</td>\n      <td>Garden District, Ryerson</td>\n    </tr>\n  </tbody>\n</table>\n</div>",
                        "text/plain": "   Post Code           Borough                                 Neighborhood\n2        M3A        North York                                    Parkwoods\n3        M4A        North York                             Victoria Village\n4        M5A  Downtown Toronto                    Regent Park, Harbourfront\n5        M6A        North York             Lawrence Manor, Lawrence Heights\n6        M7A  Downtown Toronto  Queen's Park, Ontario Provincial Government\n8        M9A         Etobicoke      Islington Avenue, Humber Valley Village\n9        M1B       Scarborough                               Malvern, Rouge\n11       M3B        North York                                    Don Mills\n12       M4B         East York              Parkview Hill, Woodbine Gardens\n13       M5B  Downtown Toronto                     Garden District, Ryerson"
                    },
                    "execution_count": 39,
                    "metadata": {},
                    "output_type": "execute_result"
                }
            ],
            "source": "df = df[df.Borough!= 'Not assigned']\ndf.head(10)"
        },
        {
            "cell_type": "code",
            "execution_count": 40,
            "metadata": {},
            "outputs": [
                {
                    "data": {
                        "text/plain": "(104, 3)"
                    },
                    "execution_count": 40,
                    "metadata": {},
                    "output_type": "execute_result"
                }
            ],
            "source": "df.shape"
        },
        {
            "cell_type": "code",
            "execution_count": null,
            "metadata": {},
            "outputs": [],
            "source": ""
        }
    ],
    "metadata": {
        "kernelspec": {
            "display_name": "Python 3.6",
            "language": "python",
            "name": "python3"
        },
        "language_info": {
            "codemirror_mode": {
                "name": "ipython",
                "version": 3
            },
            "file_extension": ".py",
            "mimetype": "text/x-python",
            "name": "python",
            "nbconvert_exporter": "python",
            "pygments_lexer": "ipython3",
            "version": "3.6.9"
        }
    },
    "nbformat": 4,
    "nbformat_minor": 1
}